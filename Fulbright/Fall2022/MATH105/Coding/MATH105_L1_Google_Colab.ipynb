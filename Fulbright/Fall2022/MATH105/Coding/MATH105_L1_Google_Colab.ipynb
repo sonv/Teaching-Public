{
  "cells": [
    {
      "cell_type": "markdown",
      "metadata": {
        "id": "Cd4UeW_FbAAo"
      },
      "source": [
        "# Python for Data analysis\n",
        "\n",
        "Welcome to Google Colaboratory (Colab), i.e. the Python editor slash notebook app we are using throughout this semester! \n",
        "\n",
        "To many people, including experienced programmers, installing Python and the magical toolkits working with it on their personal computers can be quite confusing and frustrating. Furthermore, not all personal computers are powerful enough to run resource-hungry programs, and some of the tasks we will explore in this course can be quite resource-hungry.\n",
        "\n",
        "That's where Colab comes in! Think of it primarily as a Python code editor that comes pre-packed with everything you need in this course and — wait for it — **runs on the cloud**! Whenever you run a Python program on Colab, it is a powerful computer somewhere geographically far away from you that executes the code, not *your* computer.\n",
        "\n",
        "It also comes with these handy features:\n",
        "1. It can be connected to Google Drive. That means it can read files from and export files to your Google Drive.\n",
        "2. It can be shared like other Google productivity products, such as Docs, Spreadsheets, and Slides.\n",
        "3. **It can act secondarily as an interactive notebook** in which you can insert photos, videos, and widgets for visualizing and gaining insights into data (which will be super useful in the later stages of your final project).\n",
        "\n",
        "Please follow the instructions below to start exploring Colab."
      ]
    },
    {
      "cell_type": "markdown",
      "metadata": {
        "id": "fUIh62XwbD_G"
      },
      "source": [
        "\n",
        "#1. Copy and create new Colab files\n",
        "Look at the menu bar > choose **File** > select **Save a copy in Drive**. Your browser will create another tab, which contains a Colab file similar to this but with the name \"Copy of Introduction to Google Colab.ipynb\". Another difference is that the newly copied file is stored in your Google Drive and is entirely owned by you.\n",
        "\n",
        "Indeed, once you make a copy, any additional changes you make will be saved automatically, so now you can continue without worrying about losing your work.\n",
        "\n",
        "<img src = \"https://drive.google.com/uc?export=view&id=1OKFHiO905h4VujOhyv8ip_ExrN7CKgPh\" width = \"300\">\n",
        "\n",
        "Wait, *but where is it exactly located in my Drive?*, you ask. If you are new to Colab, a folder named \"Colab Notebooks\" has just been magically created for you.\n",
        "\n",
        "<img src = \"https://drive.google.com/uc?export=view&id=162IUn4s2HWy3DEkWHYCdxec6qMMueDqy\" width = \"600\">\n",
        "\n",
        "If you go into that folder and click \"New\" at the top left corner, you can also choose to create a new Colab file.\n",
        "\n",
        "<img src = \"https://drive.google.com/uc?export=view&id=1ZrwBP7SUfD9jjdbGg9lHQfbaeZ1XTcKS\" width = \"600\">\n",
        "\n"
      ]
    },
    {
      "cell_type": "markdown",
      "metadata": {
        "id": "MY05IxNW5g9u"
      },
      "source": [
        "# 2. Write and execute code"
      ]
    },
    {
      "cell_type": "markdown",
      "metadata": {
        "id": "lIWBcLKz5pBp"
      },
      "source": [
        "An interesting thing about Colab is that you can write and run code in the middle of text blocks such as this. All you need to do is hover your mouse around the bottom or the top of a textbox and click \"+ Code\".\n",
        "\n",
        "<img src = \"https://drive.google.com/uc?export=view&id=1l4fzq2Q2jUh4FBycU7vg_kt7NXihGsIW\" width = \"250\">\n",
        "\n"
      ]
    },
    {
      "cell_type": "code",
      "execution_count": null,
      "metadata": {
        "id": "2p7wEQEu649s",
        "outputId": "c8c3bd09-ddd1-4b46-cea4-503254460ff7"
      },
      "outputs": [
        {
          "name": "stdout",
          "output_type": "stream",
          "text": [
            "Hello world!\n"
          ]
        }
      ],
      "source": [
        "# Here is a code cell. If you click the \"play\" button on the left, you can see\n",
        "# the phrase \"Hello world!\" appear underneath the cell, which indicates that the\n",
        "# line of Python code below has been executed.\n",
        "\n",
        "# Instead of clicking the \"Play\" button, you can also type Ctrl+Enter.\n",
        "\n",
        "# (By the way, these green lines are not \"executed\" because they are just\n",
        "# comments and not part of the code read by the computer.)\n",
        "\n",
        "print(\"Hello world!\")"
      ]
    },
    {
      "cell_type": "markdown",
      "metadata": {
        "id": "gskNg2Ryqiyg"
      },
      "source": [
        "**Exercise:** Can you write some code that tells Colab to print your name instead of \"Hello World!\"?"
      ]
    },
    {
      "cell_type": "code",
      "execution_count": null,
      "metadata": {
        "id": "MZnKzi68qiO4"
      },
      "outputs": [],
      "source": [
        "# Solution goes here"
      ]
    },
    {
      "cell_type": "markdown",
      "metadata": {
        "id": "PsU842FvwEWK"
      },
      "source": [
        "When you do this exercise, you should delete the comment and replace it with your solution."
      ]
    },
    {
      "cell_type": "markdown",
      "metadata": {
        "id": "sUWLUyFhwqXH"
      },
      "source": [
        "#3. Values & libraries in Python\n",
        "##3.1 A basic calculator\n",
        "There are many ways you can use Python as a makeshift calculator. Let's try a few examples."
      ]
    },
    {
      "cell_type": "code",
      "execution_count": null,
      "metadata": {
        "colab": {
          "base_uri": "https://localhost:8080/"
        },
        "id": "a6DkB_abtG7S",
        "outputId": "0ed37bf3-e335-4569-d627-b952ea654aa1"
      },
      "outputs": [
        {
          "data": {
            "text/plain": [
              "3"
            ]
          },
          "execution_count": 3,
          "metadata": {
            "tags": []
          },
          "output_type": "execute_result"
        }
      ],
      "source": [
        "1 + 2"
      ]
    },
    {
      "cell_type": "code",
      "execution_count": null,
      "metadata": {
        "id": "Jz2fLpj4zJiW"
      },
      "outputs": [],
      "source": [
        "2 - 1"
      ]
    },
    {
      "cell_type": "markdown",
      "metadata": {
        "id": "FJYS2ANDxPI5"
      },
      "source": [
        "The operators that perform multiplication and division are `*` and `/`:"
      ]
    },
    {
      "cell_type": "code",
      "execution_count": null,
      "metadata": {
        "colab": {
          "base_uri": "https://localhost:8080/"
        },
        "id": "i40mZGp4w6m_",
        "outputId": "b004e61d-e43d-4a5c-bab2-0e8de872123e"
      },
      "outputs": [
        {
          "data": {
            "text/plain": [
              "6"
            ]
          },
          "execution_count": 5,
          "metadata": {
            "tags": []
          },
          "output_type": "execute_result"
        }
      ],
      "source": [
        "2 * 3"
      ]
    },
    {
      "cell_type": "code",
      "execution_count": null,
      "metadata": {
        "colab": {
          "base_uri": "https://localhost:8080/"
        },
        "id": "itr7ARkGxWZ4",
        "outputId": "2474e735-79c9-4f6f-d0a1-7825977cf2be"
      },
      "outputs": [
        {
          "data": {
            "text/plain": [
              "1.5"
            ]
          },
          "execution_count": 3,
          "metadata": {
            "tags": []
          },
          "output_type": "execute_result"
        }
      ],
      "source": [
        "3 / 2"
      ]
    },
    {
      "cell_type": "markdown",
      "metadata": {
        "id": "iI5vLxhaxi_c"
      },
      "source": [
        "Python can handle several types of numbers, but the two most common are:\n",
        "\n",
        "* `int`, which represents integer values like `2` or `6`, and\n",
        "* `float`, which represents numbers that have a fraction part, like `1.5`.\n",
        "\n",
        "Most often, we use `int` to represent counts and `float` to represent measurements. (`float` is short for \"floating-point\", which is the name for the way these numbers are stored.)\n",
        "\n",
        "In Python, the arithmetic operators follow the rules of precedence you might have learned before:\n",
        "\n",
        "* Parentheses before\n",
        "* Exponentiation before\n",
        "* Multiplication and division before\n",
        "* Addition and subtraction\n",
        "\n",
        "So in this expression:"
      ]
    },
    {
      "cell_type": "code",
      "execution_count": null,
      "metadata": {
        "id": "eB--sExNxVvi"
      },
      "outputs": [],
      "source": [
        "1 + 2 * 3"
      ]
    },
    {
      "cell_type": "markdown",
      "metadata": {
        "id": "r7vsMiTLyCKm"
      },
      "source": [
        "The multiplication happens first.  If that's not what you want, you can use parentheses to make the order of operations explicit:"
      ]
    },
    {
      "cell_type": "code",
      "execution_count": null,
      "metadata": {
        "id": "F8-EwIbRw6Za"
      },
      "outputs": [],
      "source": [
        "(1 + 2) * 3"
      ]
    },
    {
      "cell_type": "markdown",
      "metadata": {
        "id": "DpPhLXtC2lCw"
      },
      "source": [
        "That's it for now! We'll return to Colab and Python in next session."
      ]
    },
    {
      "cell_type": "markdown",
      "metadata": {
        "id": "Z2SCMumHroPC"
      },
      "source": [
        "# Credits\n",
        "\n",
        "This notebook contains materials created by Nguyen Cao Nghi, [Allen Downey](https://allendowney.github.io/ElementsOfDataScience/), and Sebastian Dziallas."
      ]
    }
  ],
  "metadata": {
    "colab": {
      "collapsed_sections": [],
      "provenance": []
    },
    "kernelspec": {
      "display_name": "Python 3 (ipykernel)",
      "language": "python",
      "name": "python3"
    },
    "language_info": {
      "codemirror_mode": {
        "name": "ipython",
        "version": 3
      },
      "file_extension": ".py",
      "mimetype": "text/x-python",
      "name": "python",
      "nbconvert_exporter": "python",
      "pygments_lexer": "ipython3",
      "version": "3.9.12"
    }
  },
  "nbformat": 4,
  "nbformat_minor": 0
}